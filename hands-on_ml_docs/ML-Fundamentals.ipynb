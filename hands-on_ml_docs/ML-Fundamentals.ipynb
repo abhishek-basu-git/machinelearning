{
 "cells": [
  {
   "cell_type": "markdown",
   "metadata": {},
   "source": [
    "# Hands-on Machine Learning with Scikit-Learn, Keras, and TensorFlow, 2nd Edition"
   ]
  },
  {
   "cell_type": "markdown",
   "metadata": {},
   "source": [
    "## Chapter 1: Machine Learning Fundamentals/Landscape"
   ]
  },
  {
   "cell_type": "markdown",
   "metadata": {},
   "source": [
    "### Machine Learning:\n",
    "**_Machine Learning is the science (and art) of programming computers so they can learn from data._**\n",
    "\n",
    "**_[Machine Learning is the] field of study that gives computers the ability to learn without being explicitly programmed._**\n",
    "\n",
    "***A computer program is said to learn from experience E with respect to some task T and some performance measure P, if its performance on T, as measured by P, improves with experience E.</font>***"
   ]
  },
  {
   "cell_type": "markdown",
   "metadata": {},
   "source": [
    "<img src=\"images/traditional-approach.gif\" alt=\"Alt text that describes the graphic\" title=\"Title text\" />"
   ]
  },
  {
   "cell_type": "markdown",
   "metadata": {},
   "source": [
    "\n",
    "**<font color=blue>_In contrast to the traditional approach Machine Learning models automatically detects the patterns and the defines its own rules._</font>**\n",
    "\n",
    "<img src=\"images/ml-1.gif\" alt=\"Alt text that describes the graphic\" title=\"Title text\" />"
   ]
  },
  {
   "cell_type": "markdown",
   "metadata": {},
   "source": [
    "\n",
    "\n",
    "\n",
    "*_Above approach can be automated also_*\n",
    "\n",
    "<img src=\"images/ml-2.gif\" alt=\"Alt text that describes the graphic\" title=\"Title text\" />"
   ]
  },
  {
   "cell_type": "markdown",
   "metadata": {},
   "source": [
    "### Types of Machine Learning:"
   ]
  },
  {
   "cell_type": "markdown",
   "metadata": {},
   "source": [
    "- Whether or not they are trained with human supervision and the amount & type of supervision they get during training\n",
    "\n",
    "    - **_Supervised_**\n",
    "    - **_Unsupervised_**\n",
    "    - **_Semi-Supervised_**\n",
    "    - **_Reinforcement Learning_**"
   ]
  },
  {
   "cell_type": "markdown",
   "metadata": {},
   "source": [
    "- Whether or not they can learn incrementally on the fly\n",
    "\n",
    "    - **_Online learning_**\n",
    "    - **_Batch Learning_**\n"
   ]
  },
  {
   "cell_type": "markdown",
   "metadata": {},
   "source": [
    "- Whether they work by simply comparing new data points to known data points, or instead detect patterns in the training data and build a predictive model\n",
    "\n",
    "    - **_Instance-Based Learning_**\n",
    "    - **_Model-Based Learning_**\n"
   ]
  },
  {
   "cell_type": "markdown",
   "metadata": {},
   "source": [
    "*These criteria are not exclusive; you can combine them in any way you like.\n",
    "For example, a state-of-the-art spam filter may learn on the fly using a deep neural network model trained using examples of spam and ham; this makes it an online, model-based, supervised learning system.*"
   ]
  },
  {
   "cell_type": "markdown",
   "metadata": {},
   "source": [
    "### Supervised:\n",
    " Labelled Datasets only [Labels: Desired Solution to training datas]\n",
    "    \n",
    "   - Types of Supervised Learning:\n",
    "       - **_Classification_**\n",
    "       - **_Regression_**\n",
    "       \n",
    "   **Important supervised learning algorithms:**\n",
    "       - k-Nearest Neighbors\n",
    "       - Linear Regression\n",
    "       - Logistic Regression\n",
    "       - Support Vector Machines (SVMs)\n",
    "       - Decision Trees and Random Forests\n",
    "       - Neural networks2\n",
    "\n",
    "\n",
    "    "
   ]
  },
  {
   "cell_type": "markdown",
   "metadata": {},
   "source": [
    "### Unsupervised:\n",
    " Unlabelled Datasets only\n",
    " Training data is unlabeled\n",
    " The system tries to learn without any supervision\n",
    "    \n",
    "   - Types of Unsupervised Learning:\n",
    "       - **_Classification_**\n",
    "       - **_Anomaly detection and novelty detection_**\n",
    "       - **_Visualization and dimensionality reduction_**\n",
    "       - **_Association rule learning_**\n",
    "       \n",
    "   **Important unsupervised learning algorithms:**\n",
    "       - Clustering\n",
    "           - K-Means\n",
    "           - DBSCAN\n",
    "           - Hierarchical Cluster Analysis (HCA)\n",
    "       - Anomaly detection and novelty detection\n",
    "           - One-class SVM\n",
    "           - Isolation Forest\n",
    "       - Visualization and dimensionality reduction\n",
    "           - Principal Component Analysis (PCA)\n",
    "           - Kernel PCA\n",
    "           - Locally-Linear Embedding (LLE)\n",
    "           - t-distributed Stochastic Neighbor Embedding (t-SNE)\n",
    "       - Association rule learning\n",
    "            - Apriori\n",
    "            - Eclat\n",
    "\n",
    "    **_Clustering Algorithms_**:\n",
    "\n",
    "        - *Say you have a lot of data about your blog’s visitors. You may want to run a <font color=red>clustering algorithm</font> to try to detect groups of similar visitors. At no point do you tell the algorithm which group a visitor belongs to: it finds those connections without your help. For example, it might notice that 40% of your visitors are males who love comic books and generally read your blog in the evening, while 20% are young sci-fi lovers who visit during the weekends, and so on. If you use a hierarchical clustering algorithm, it may also subdivide each group into smaller groups. This may help you target your posts for each group.*\n",
    "\n",
    "    **_Visualization Algorithms_**:\n",
    "\n",
    "        - *<font color=red>Visualization algorithms</font> are also good examples of unsupervised learning algorithms: you feed them a lot of complex and unlabeled data, and they output a 2D or 3D representation of your data that can easily be plotted*\n",
    "    \n",
    "    **_Dimensionality Reduction_**:\n",
    "\n",
    "        - *In <font color=red>Dimensionality Reduction</font> goal is to simplify the data without losing too much information. One way to do this is to merge several correlated features into one.* \n",
    "        \n",
    "        *For example, a car’s mileage may be very correlated with its age, so the dimensionality reduction algorithm will merge them into one feature that represents the car’s wear and tear. This is called <font color=green>feature extraction</font>.*\n",
    "    \n",
    "    **_Anomaly detection and novelty detection_**:\n",
    "\n",
    "        - *It is about detecting unusual credit card transactions to prevent fraud, catching manufacturing defects, or automatically removing outliers from a dataset before feeding it to another learning algorithm.*\n",
    "    \n",
    "    **_Association rule learning_**:\n",
    "\n",
    "        - *The goal is to dig into large amounts of data and discover interesting relations between attributes.*\n",
    "        \n",
    "        *For example, suppose you own a supermarket. Running an association rule on your sales logs may reveal that people who purchase barbecue sauce and potato chips also tend to buy steak. Thus, you may want to place these items close to each other.*\n",
    "\n",
    "\n",
    "\n",
    "\n",
    "\n",
    "\n"
   ]
  },
  {
   "cell_type": "markdown",
   "metadata": {},
   "source": [
    "### SEMISUPERVISED :\n",
    "\n",
    "   Some algorithms can deal with partially labeled training data, usually a lot of unlabeled data and a little bit of labeled data. This is called <font color=red>semisupervised learning</font>\n",
    "    \n",
    "   Eg: Google Photos, where if u identify and label urself in one photo it will automatically detect u in all the other photos"
   ]
  },
  {
   "cell_type": "markdown",
   "metadata": {},
   "source": [
    "### REINFORCEMENT LEARNING:\n",
    "   In <font color=red>Reinforcement Learning</font>, the learning system, called an agent in this context, can observe the environment, select and perform actions, and get rewards in return (or penalties in the form of negative rewards). It must then learn by itself what is the best strategy, called a <font color=green>policy</font>, to get the most reward over time. A policy defines what action the agent should choose when it is in a given situation.\n",
    "\n"
   ]
  },
  {
   "cell_type": "code",
   "execution_count": null,
   "metadata": {},
   "outputs": [],
   "source": []
  }
 ],
 "metadata": {
  "kernelspec": {
   "display_name": "Python 3",
   "language": "python",
   "name": "python3"
  },
  "language_info": {
   "codemirror_mode": {
    "name": "ipython",
    "version": 3
   },
   "file_extension": ".py",
   "mimetype": "text/x-python",
   "name": "python",
   "nbconvert_exporter": "python",
   "pygments_lexer": "ipython3",
   "version": "3.6.8"
  }
 },
 "nbformat": 4,
 "nbformat_minor": 2
}
